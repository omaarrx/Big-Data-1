{
  "nbformat": 4,
  "nbformat_minor": 0,
  "metadata": {
    "colab": {
      "provenance": []
    },
    "kernelspec": {
      "name": "python3",
      "display_name": "Python 3"
    },
    "language_info": {
      "name": "python"
    }
  },
  "cells": [
    {
      "cell_type": "code",
      "execution_count": 5,
      "metadata": {
        "colab": {
          "base_uri": "https://localhost:8080/"
        },
        "id": "6EN_ApyixS4d",
        "outputId": "53f041b1-7971-429a-b782-94fc0f03f02f"
      },
      "outputs": [
        {
          "output_type": "stream",
          "name": "stdout",
          "text": [
            "Looking in indexes: https://pypi.org/simple, https://us-python.pkg.dev/colab-wheels/public/simple/\n",
            "Requirement already satisfied: pyspark in /usr/local/lib/python3.10/dist-packages (3.4.0)\n",
            "Requirement already satisfied: py4j==0.10.9.7 in /usr/local/lib/python3.10/dist-packages (from pyspark) (0.10.9.7)\n",
            "Looking in indexes: https://pypi.org/simple, https://us-python.pkg.dev/colab-wheels/public/simple/\n",
            "Requirement already satisfied: findspark in /usr/local/lib/python3.10/dist-packages (2.0.1)\n"
          ]
        }
      ],
      "source": [
        "!pip install pyspark\n",
        "!pip install findspark"
      ]
    },
    {
      "cell_type": "code",
      "source": [
        "import findspark\n",
        "findspark.init()"
      ],
      "metadata": {
        "id": "XFvUuFKfyt2j"
      },
      "execution_count": 6,
      "outputs": []
    },
    {
      "cell_type": "code",
      "source": [
        "import pandas as pd\n",
        "from pyspark import SparkContext, SparkConf\n",
        "from pyspark.sql import SparkSession"
      ],
      "metadata": {
        "id": "0PRep1gxyxNw"
      },
      "execution_count": 7,
      "outputs": []
    },
    {
      "cell_type": "code",
      "source": [
        "from pyspark.sql import SparkSession\n",
        "spark = SparkSession.builder.master(\"local\").appName(\"MyApp\").getOrCreate()\n"
      ],
      "metadata": {
        "id": "7R0s8_3IA_ZU"
      },
      "execution_count": 8,
      "outputs": []
    },
    {
      "cell_type": "code",
      "source": [
        "spark"
      ],
      "metadata": {
        "colab": {
          "base_uri": "https://localhost:8080/",
          "height": 219
        },
        "id": "xV-46hIVArjM",
        "outputId": "ddb1a90f-d1cb-419e-dbf5-496ec73a3ee4"
      },
      "execution_count": 9,
      "outputs": [
        {
          "output_type": "execute_result",
          "data": {
            "text/plain": [
              "<pyspark.sql.session.SparkSession at 0x7fdef46635e0>"
            ],
            "text/html": [
              "\n",
              "            <div>\n",
              "                <p><b>SparkSession - in-memory</b></p>\n",
              "                \n",
              "        <div>\n",
              "            <p><b>SparkContext</b></p>\n",
              "\n",
              "            <p><a href=\"http://141d0a975b8b:4040\">Spark UI</a></p>\n",
              "\n",
              "            <dl>\n",
              "              <dt>Version</dt>\n",
              "                <dd><code>v3.4.0</code></dd>\n",
              "              <dt>Master</dt>\n",
              "                <dd><code>local</code></dd>\n",
              "              <dt>AppName</dt>\n",
              "                <dd><code>MyApp</code></dd>\n",
              "            </dl>\n",
              "        </div>\n",
              "        \n",
              "            </div>\n",
              "        "
            ]
          },
          "metadata": {},
          "execution_count": 9
        }
      ]
    },
    {
      "cell_type": "code",
      "source": [
        "music_streaming=pd.read_csv('music_streaming.csv')\n",
        "sdf = spark.createDataFrame(music_streaming) "
      ],
      "metadata": {
        "id": "JdCWgPAB4JVk"
      },
      "execution_count": 11,
      "outputs": []
    },
    {
      "cell_type": "code",
      "source": [
        "sdf.printSchema()"
      ],
      "metadata": {
        "colab": {
          "base_uri": "https://localhost:8080/"
        },
        "id": "CtAicZ3o7MWc",
        "outputId": "fc356f3c-6429-4732-a231-67b34b801d4a"
      },
      "execution_count": 12,
      "outputs": [
        {
          "output_type": "stream",
          "name": "stdout",
          "text": [
            "root\n",
            " |-- Artist Name: string (nullable = true)\n",
            " |-- Track Name: string (nullable = true)\n",
            " |-- Popularity: double (nullable = true)\n",
            " |-- danceability: double (nullable = true)\n",
            " |-- energy: double (nullable = true)\n",
            " |-- key: double (nullable = true)\n",
            " |-- loudness: double (nullable = true)\n",
            " |-- mode: long (nullable = true)\n",
            " |-- speechiness: double (nullable = true)\n",
            " |-- acousticness: double (nullable = true)\n",
            " |-- instrumentalness: double (nullable = true)\n",
            " |-- liveness: double (nullable = true)\n",
            " |-- valence: double (nullable = true)\n",
            " |-- tempo: double (nullable = true)\n",
            " |-- duration_in min/ms: double (nullable = true)\n",
            " |-- time_signature: long (nullable = true)\n",
            " |-- Genre: long (nullable = true)\n",
            "\n"
          ]
        }
      ]
    },
    {
      "cell_type": "code",
      "source": [
        "sdf.show(10)"
      ],
      "metadata": {
        "colab": {
          "base_uri": "https://localhost:8080/"
        },
        "id": "D4FBb8abl4G6",
        "outputId": "9817b382-aa9c-486a-d8fc-7de8afd98752"
      },
      "execution_count": 21,
      "outputs": [
        {
          "output_type": "stream",
          "name": "stdout",
          "text": [
            "+--------------------+--------------------+----------+------------+------+---+--------+----+-----------+------------+----------------+--------+-------+-------+------------------+--------------+-----+\n",
            "|         Artist Name|          Track Name|Popularity|danceability|energy|key|loudness|mode|speechiness|acousticness|instrumentalness|liveness|valence|  tempo|duration_in min/ms|time_signature|Genre|\n",
            "+--------------------+--------------------+----------+------------+------+---+--------+----+-----------+------------+----------------+--------+-------+-------+------------------+--------------+-----+\n",
            "|                 FLO|                 D's|      66.0|       0.266| 0.294|7.0| -11.938|   0|     0.0291|       0.771|           0.697|   0.107| 0.0397|137.941|          811077.0|             3|    9|\n",
            "|          John Mayer|Slow Dancing in a...|      55.0|       0.611| 0.313|4.0| -10.242|   1|     0.0339|       0.835|         3.15E-4|   0.111|  0.378|134.858|           3.87845|             3|    0|\n",
            "|Antonio Vivaldi, ...|Cello Concerto in...|      34.0|       0.352|  0.03|9.0| -23.518|   0|     0.0401|       0.979|           0.838|   0.109|   0.22|114.834|              1.75|             3|    7|\n",
            "|  The Rolling Stones|Send It To Me - R...|      40.0|       0.768| 0.799|6.0|  -6.079|   0|     0.0831|       0.104|          0.0768|   0.155|  0.731| 94.268|          222960.0|             4|   10|\n",
            "|   Gracie and Rachel|Speak (Future Gen...|      24.0|       0.753| 0.321|5.0|  -9.758|   1|     0.0897|        0.16|         6.24E-4|   0.117|  0.504| 152.04|          180276.0|             4|    6|\n",
            "|Ambient Jazz Ense...|                Aura|      27.0|       0.365| 0.305|8.0| -10.089|   0|     0.0276|        0.11|           0.937|    0.11| 0.0958| 82.858|          276027.0|             3|    6|\n",
            "|Scott Hamilton, D...|   Young and Foolish|      48.0|       0.456| 0.276|5.0|  -7.419|   1|     0.0316|       0.965|          0.0525|  0.0775|  0.157|103.335|           5.51025|             4|    7|\n",
            "|  The Detroit Cobras|       Cha Cha Twist|      43.0|       0.537| 0.823|9.0|  -5.874|   1|     0.0322|     0.00784|         2.19E-6|   0.122|  0.759|132.241|          151827.0|             4|   10|\n",
            "|G. Love & Special...|Go Crazy (feat. K...|      25.0|       0.741| 0.789|2.0|  -4.733|   1|     0.0594|       0.183|         8.24E-4|   0.162|  0.863| 95.986|          220960.0|             4|    2|\n",
            "|          Ajotabeats|       ANOTHER NIGHT|      41.0|       0.772| 0.941|6.0|  -7.609|   0|      0.165|       0.076|           0.625|  0.0793|  0.693|125.016|          236175.0|             4|    6|\n",
            "+--------------------+--------------------+----------+------------+------+---+--------+----+-----------+------------+----------------+--------+-------+-------+------------------+--------------+-----+\n",
            "only showing top 10 rows\n",
            "\n"
          ]
        }
      ]
    },
    {
      "cell_type": "code",
      "source": [
        "sdf.createOrReplaceTempView(\"music_streaming\")"
      ],
      "metadata": {
        "id": "f5UIjcizl_ZG"
      },
      "execution_count": 15,
      "outputs": []
    },
    {
      "cell_type": "code",
      "source": [
        "# cleaning data\n",
        "sdf = sdf.dropna()\n",
        "\n",
        "sdf = sdf.dropDuplicates()\n",
        "\n",
        "\n"
      ],
      "metadata": {
        "id": "nRLqgF9tl_Kk"
      },
      "execution_count": 18,
      "outputs": []
    },
    {
      "cell_type": "code",
      "source": [
        "sdf = sdf.filter(sdf['duration_in min/ms'] <= 300)\n",
        "\n",
        "print(sdf.show(10))"
      ],
      "metadata": {
        "colab": {
          "base_uri": "https://localhost:8080/"
        },
        "id": "6VLqqKwjndIT",
        "outputId": "347614d2-e4c2-4278-c5ea-e592f7f15d21"
      },
      "execution_count": 24,
      "outputs": [
        {
          "output_type": "stream",
          "name": "stdout",
          "text": [
            "+--------------------+--------------------+----------+------------+------+---+--------+----+-----------+------------+----------------+--------+-------+-------+------------------+--------------+-----+\n",
            "|         Artist Name|          Track Name|Popularity|danceability|energy|key|loudness|mode|speechiness|acousticness|instrumentalness|liveness|valence|  tempo|duration_in min/ms|time_signature|Genre|\n",
            "+--------------------+--------------------+----------+------------+------+---+--------+----+-----------+------------+----------------+--------+-------+-------+------------------+--------------+-----+\n",
            "|          John Mayer|Slow Dancing in a...|      55.0|       0.611| 0.313|4.0| -10.242|   1|     0.0339|       0.835|         3.15E-4|   0.111|  0.378|134.858|           3.87845|             3|    0|\n",
            "|Antonio Vivaldi, ...|Cello Concerto in...|      34.0|       0.352|  0.03|9.0| -23.518|   0|     0.0401|       0.979|           0.838|   0.109|   0.22|114.834|              1.75|             3|    7|\n",
            "|Scott Hamilton, D...|   Young and Foolish|      48.0|       0.456| 0.276|5.0|  -7.419|   1|     0.0316|       0.965|          0.0525|  0.0775|  0.157|103.335|           5.51025|             4|    7|\n",
            "|       Merle Haggard|  My Favorite Memory|      49.0|       0.452| 0.158|2.0| -14.317|   1|     0.0358|       0.874|         5.27E-4|  0.0846|  0.134|129.822|       3.092883333|             3|    4|\n",
            "|      Britney Spears|Now That I Found You|      34.0|       0.526| 0.731|6.0|  -4.901|   1|     0.0459|       0.083|         7.87E-4|  0.0557|  0.491| 128.04|             4.274|             4|    9|\n",
            "|   Roop Kumar Rathod|           To Chalun|      47.0|        0.52| 0.766|8.0|  -9.242|   0|      0.085|       0.239|          2.1E-4|   0.129|  0.714| 144.13|       7.644883333|             4|    3|\n",
            "|                  U2|I Still Haven't F...|      76.0|       0.564| 0.774|1.0|  -9.424|   1|     0.0368|      0.0135|         0.00191|  0.0861|  0.657|100.894|        4.62461667|             4|   10|\n",
            "|          John Hanks|       Grenada Plaza|      47.0|       0.649| 0.103|9.0| -18.252|   0|     0.0511|       0.978|            0.45|    0.11|  0.118| 50.767|       2.818866667|             4|    7|\n",
            "|   The Backyardigans|           Castaways|      72.0|       0.756| 0.211|5.0| -17.646|   1|      0.409|       0.784|         8.65E-6|    0.11|  0.307| 81.253|       1.461783333|             4|    9|\n",
            "|Robert Palmer, Er...|    Addicted To Love|      68.0|       0.702| 0.578|2.0| -13.415|   1|      0.031|       0.382|         5.89E-6|  0.0425|  0.975|111.617|        6.06066667|             4|   10|\n",
            "+--------------------+--------------------+----------+------------+------+---+--------+----+-----------+------------+----------------+--------+-------+-------+------------------+--------------+-----+\n",
            "only showing top 10 rows\n",
            "\n",
            "None\n"
          ]
        }
      ]
    },
    {
      "cell_type": "code",
      "source": [
        "#songs by J. Cole, Novo Amor and Anson Seabra is not found\n",
        "sdf.createOrReplaceTempView(\"songs\")\n",
        "filtered_songs = spark.sql(\"\"\"\n",
        "    SELECT *\n",
        "    FROM songs\n",
        "    WHERE trim(`Artist Name`) IN ('J. Cole', 'Novo Amor', 'Anson Seabra')\n",
        "\"\"\")\n",
        "filtered_songs.show()\n"
      ],
      "metadata": {
        "colab": {
          "base_uri": "https://localhost:8080/"
        },
        "id": "Gyzrq8VTrZJQ",
        "outputId": "094b5335-2373-42e2-e7e4-f8072c187a7e"
      },
      "execution_count": 33,
      "outputs": [
        {
          "output_type": "stream",
          "name": "stdout",
          "text": [
            "+-----------+----------+----------+------------+------+---+--------+----+-----------+------------+----------------+--------+-------+-----+------------------+--------------+-----+\n",
            "|Artist Name|Track Name|Popularity|danceability|energy|key|loudness|mode|speechiness|acousticness|instrumentalness|liveness|valence|tempo|duration_in min/ms|time_signature|Genre|\n",
            "+-----------+----------+----------+------------+------+---+--------+----+-----------+------------+----------------+--------+-------+-----+------------------+--------------+-----+\n",
            "+-----------+----------+----------+------------+------+---+--------+----+-----------+------------+----------------+--------+-------+-----+------------------+--------------+-----+\n",
            "\n"
          ]
        }
      ]
    },
    {
      "cell_type": "code",
      "source": [
        "#count of songs included in each category (genre) based on the data in the \"Genre\" column\n",
        "sdf.createOrReplaceTempView(\"songs\")\n",
        "category_counts = spark.sql(\"\"\"\n",
        "    SELECT Genre, COUNT(*) AS SongCount\n",
        "    FROM songs\n",
        "    GROUP BY Genre\n",
        "\"\"\")\n",
        "category_counts.show()\n"
      ],
      "metadata": {
        "colab": {
          "base_uri": "https://localhost:8080/"
        },
        "id": "LATZt3y7xBcJ",
        "outputId": "3861654c-8aa7-411f-e041-65386d4f5a4a"
      },
      "execution_count": 34,
      "outputs": [
        {
          "output_type": "stream",
          "name": "stdout",
          "text": [
            "+-----+---------+\n",
            "|Genre|SongCount|\n",
            "+-----+---------+\n",
            "|    0|      362|\n",
            "|    7|      373|\n",
            "|    9|      123|\n",
            "|   10|       97|\n",
            "|    3|      247|\n",
            "|    4|      142|\n",
            "+-----+---------+\n",
            "\n"
          ]
        }
      ]
    },
    {
      "cell_type": "code",
      "source": [
        "#e\n",
        "from pyspark.sql.functions import avg\n",
        "\n",
        "artist_popularity = sdf.groupBy(\"Artist Name\").agg(avg(\"Popularity\").alias(\"Average Popularity\"))\n",
        "dominant_artists = artist_popularity.orderBy(\"Average Popularity\", ascending=False)\n",
        "dominant_artists.show()\n"
      ],
      "metadata": {
        "colab": {
          "base_uri": "https://localhost:8080/"
        },
        "id": "3gEfkLXM0LpE",
        "outputId": "96614b7d-d0a8-45ff-ff90-a8654ec5d951"
      },
      "execution_count": 35,
      "outputs": [
        {
          "output_type": "stream",
          "name": "stdout",
          "text": [
            "+--------------------+------------------+\n",
            "|         Artist Name|Average Popularity|\n",
            "+--------------------+------------------+\n",
            "|          Ed Sheeran|              97.0|\n",
            "|       Doja Cat, SZA|              95.0|\n",
            "|      Rauw Alejandro|              95.0|\n",
            "|Riton, Nightcrawl...|              92.0|\n",
            "|        Bella Poarch|              90.0|\n",
            "|         Post Malone|              90.0|\n",
            "|  Majestic, Boney M.|              89.0|\n",
            "|     ATB, Topic, A7S|              88.0|\n",
            "|   The Neighbourhood|              87.0|\n",
            "|Justin Wellington...|              87.0|\n",
            "|              Shouse|              85.0|\n",
            "|           Tom Odell|              84.0|\n",
            "|          Bo Burnham|              84.0|\n",
            "|               Drake|              81.0|\n",
            "|Doja Cat, Ariana ...|              80.0|\n",
            "|             Stromae|              80.0|\n",
            "|          PlayaPhonk|              79.0|\n",
            "|              Tesher|              78.0|\n",
            "|    Sigala, Rita Ora|              78.0|\n",
            "|      Olivia Rodrigo|              78.0|\n",
            "+--------------------+------------------+\n",
            "only showing top 20 rows\n",
            "\n"
          ]
        }
      ]
    },
    {
      "cell_type": "code",
      "source": [
        "from pyspark.sql.functions import desc\n",
        "\n",
        "top_10_songs = sdf.select(\"Artist Name\", \"Track Name\", \"Popularity\").orderBy(desc(\"Popularity\")).limit(10)\n",
        "top_10_songs.show()\n"
      ],
      "metadata": {
        "colab": {
          "base_uri": "https://localhost:8080/"
        },
        "id": "87PKRcso4zlM",
        "outputId": "bc65eaf8-158e-43f0-b302-5e4743cc67c0"
      },
      "execution_count": 37,
      "outputs": [
        {
          "output_type": "stream",
          "name": "stdout",
          "text": [
            "+--------------------+--------------------+----------+\n",
            "|         Artist Name|          Track Name|Popularity|\n",
            "+--------------------+--------------------+----------+\n",
            "|          Ed Sheeran|          Bad Habits|      97.0|\n",
            "|      Rauw Alejandro|          Todo De Ti|      95.0|\n",
            "|       Doja Cat, SZA|Kiss Me More (fea...|      95.0|\n",
            "|       Doja Cat, SZA|Kiss Me More (fea...|      95.0|\n",
            "|Riton, Nightcrawl...|Friday (feat. Muf...|      92.0|\n",
            "|        Bella Poarch|       Build a Bitch|      90.0|\n",
            "|        Bella Poarch|       Build a Bitch|      90.0|\n",
            "|         Post Malone|         Motley Crew|      90.0|\n",
            "|  Majestic, Boney M.|            Rasputin|      89.0|\n",
            "|     ATB, Topic, A7S|     Your Love (9PM)|      88.0|\n",
            "+--------------------+--------------------+----------+\n",
            "\n"
          ]
        }
      ]
    },
    {
      "cell_type": "code",
      "source": [
        "from pyspark.sql.functions import desc\n",
        "\n",
        "party_songs = sdf.select(\"Track Name\", \"Popularity\").orderBy(desc(\"Popularity\")).limit(5)\n",
        "party_songs.show()\n"
      ],
      "metadata": {
        "colab": {
          "base_uri": "https://localhost:8080/"
        },
        "id": "1l6TUYv05TUc",
        "outputId": "19de6bd4-be84-40d8-ca6d-c3ec134e7a05"
      },
      "execution_count": 39,
      "outputs": [
        {
          "output_type": "stream",
          "name": "stdout",
          "text": [
            "+--------------------+----------+\n",
            "|          Track Name|Popularity|\n",
            "+--------------------+----------+\n",
            "|          Bad Habits|      97.0|\n",
            "|          Todo De Ti|      95.0|\n",
            "|Kiss Me More (fea...|      95.0|\n",
            "|Kiss Me More (fea...|      95.0|\n",
            "|Friday (feat. Muf...|      92.0|\n",
            "+--------------------+----------+\n",
            "\n"
          ]
        }
      ]
    }
  ]
}